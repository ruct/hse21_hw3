{
  "nbformat": 4,
  "nbformat_minor": 0,
  "metadata": {
    "colab": {
      "name": "hse21_hw3_fastqc.ipynb",
      "provenance": [],
      "collapsed_sections": [],
      "toc_visible": true
    },
    "kernelspec": {
      "name": "python3",
      "display_name": "Python 3"
    },
    "language_info": {
      "name": "python"
    }
  },
  "cells": [
    {
      "cell_type": "code",
      "metadata": {
        "colab": {
          "base_uri": "https://localhost:8080/"
        },
        "id": "MzZRqMgyP8l-",
        "outputId": "dc05eeba-c8df-4e5d-c85e-b95cf6417989"
      },
      "source": [
        "!apt-get update\n",
        "!apt-get install hisat2\n",
        "!hisat2 --version"
      ],
      "execution_count": null,
      "outputs": [
        {
          "output_type": "stream",
          "name": "stdout",
          "text": [
            "\r0% [Working]\r            \rHit:1 https://cloud.r-project.org/bin/linux/ubuntu bionic-cran40/ InRelease\n",
            "Ign:2 https://developer.download.nvidia.com/compute/cuda/repos/ubuntu1804/x86_64  InRelease\n",
            "Hit:3 http://ppa.launchpad.net/c2d4u.team/c2d4u4.0+/ubuntu bionic InRelease\n",
            "Get:4 http://security.ubuntu.com/ubuntu bionic-security InRelease [88.7 kB]\n",
            "Hit:5 http://archive.ubuntu.com/ubuntu bionic InRelease\n",
            "Ign:6 https://developer.download.nvidia.com/compute/machine-learning/repos/ubuntu1804/x86_64  InRelease\n",
            "Hit:7 https://developer.download.nvidia.com/compute/cuda/repos/ubuntu1804/x86_64  Release\n",
            "Hit:8 https://developer.download.nvidia.com/compute/machine-learning/repos/ubuntu1804/x86_64  Release\n",
            "Get:9 http://archive.ubuntu.com/ubuntu bionic-updates InRelease [88.7 kB]\n",
            "Hit:10 http://ppa.launchpad.net/cran/libgit2/ubuntu bionic InRelease\n",
            "Hit:11 http://ppa.launchpad.net/deadsnakes/ppa/ubuntu bionic InRelease\n",
            "Get:12 http://archive.ubuntu.com/ubuntu bionic-backports InRelease [74.6 kB]\n",
            "Hit:13 http://ppa.launchpad.net/graphics-drivers/ppa/ubuntu bionic InRelease\n",
            "Fetched 252 kB in 3s (96.2 kB/s)\n",
            "Reading package lists... Done\n",
            "Reading package lists... Done\n",
            "Building dependency tree       \n",
            "Reading state information... Done\n",
            "hisat2 is already the newest version (2.1.0-1).\n",
            "0 upgraded, 0 newly installed, 0 to remove and 43 not upgraded.\n",
            "/usr/bin/hisat2-align-s version 2.1.0\n",
            "64-bit\n",
            "Built on Debian unstable\n",
            "Mon Sep  4 12:49:40 UTC 2017\n",
            "Compiler: gcc version 7.2.0 (Ubuntu 7.2.0-12ubuntu1) \n",
            "Options: -O3   -funroll-loops -g3 -Wdate-time -D_FORTIFY_SOURCE=2 -DPOPCNT_CAPABILITY\n",
            "Sizeof {int, long, long long, void*, size_t, off_t}: {4, 8, 8, 8, 8, 8}\n"
          ]
        }
      ]
    },
    {
      "cell_type": "code",
      "metadata": {
        "colab": {
          "base_uri": "https://localhost:8080/"
        },
        "id": "Mt4SWaSUQGtd",
        "outputId": "669e790d-4def-4479-d2e9-99a7a78539da"
      },
      "source": [
        "!apt-get install sra-toolkit"
      ],
      "execution_count": null,
      "outputs": [
        {
          "output_type": "stream",
          "name": "stdout",
          "text": [
            "Reading package lists... Done\n",
            "Building dependency tree       \n",
            "Reading state information... Done\n",
            "sra-toolkit is already the newest version (2.8.2-5+dfsg-1).\n",
            "0 upgraded, 0 newly installed, 0 to remove and 43 not upgraded.\n"
          ]
        }
      ]
    },
    {
      "cell_type": "code",
      "metadata": {
        "colab": {
          "base_uri": "https://localhost:8080/"
        },
        "id": "I2pGlO8YQVNG",
        "outputId": "92cf2163-4cf7-4c5b-ee93-1ef0b84a51e2"
      },
      "source": [
        "!java -version"
      ],
      "execution_count": null,
      "outputs": [
        {
          "output_type": "stream",
          "name": "stdout",
          "text": [
            "openjdk version \"11.0.11\" 2021-04-20\n",
            "OpenJDK Runtime Environment (build 11.0.11+9-Ubuntu-0ubuntu2.18.04)\n",
            "OpenJDK 64-Bit Server VM (build 11.0.11+9-Ubuntu-0ubuntu2.18.04, mixed mode, sharing)\n"
          ]
        }
      ]
    },
    {
      "cell_type": "code",
      "metadata": {
        "colab": {
          "base_uri": "https://localhost:8080/"
        },
        "id": "rnlcFRNlQb8O",
        "outputId": "b1613d7f-4f43-45a1-a1bf-612d378001fe"
      },
      "source": [
        "!wget https://www.bioinformatics.babraham.ac.uk/projects/fastqc/fastqc_v0.11.9.zip"
      ],
      "execution_count": null,
      "outputs": [
        {
          "output_type": "stream",
          "name": "stdout",
          "text": [
            "--2021-12-01 23:46:00--  https://www.bioinformatics.babraham.ac.uk/projects/fastqc/fastqc_v0.11.9.zip\n",
            "Resolving www.bioinformatics.babraham.ac.uk (www.bioinformatics.babraham.ac.uk)... 149.155.133.4\n",
            "Connecting to www.bioinformatics.babraham.ac.uk (www.bioinformatics.babraham.ac.uk)|149.155.133.4|:443... connected.\n",
            "HTTP request sent, awaiting response... 200 OK\n",
            "Length: 10249221 (9.8M) [application/zip]\n",
            "Saving to: ‘fastqc_v0.11.9.zip.1’\n",
            "\n",
            "fastqc_v0.11.9.zip. 100%[===================>]   9.77M  3.03MB/s    in 3.2s    \n",
            "\n",
            "2021-12-01 23:46:04 (3.03 MB/s) - ‘fastqc_v0.11.9.zip.1’ saved [10249221/10249221]\n",
            "\n"
          ]
        }
      ]
    },
    {
      "cell_type": "code",
      "metadata": {
        "colab": {
          "base_uri": "https://localhost:8080/"
        },
        "id": "6AI4T_V8QeRl",
        "outputId": "7b3fe9cf-e00d-4433-844e-8f0614fcbbfc"
      },
      "source": [
        "!unzip fastqc_v0.11.9.zip"
      ],
      "execution_count": null,
      "outputs": [
        {
          "output_type": "stream",
          "name": "stdout",
          "text": [
            "Archive:  fastqc_v0.11.9.zip\n",
            "replace FastQC/cisd-jhdf5.jar? [y]es, [n]o, [A]ll, [N]one, [r]ename: "
          ]
        }
      ]
    },
    {
      "cell_type": "markdown",
      "metadata": {
        "id": "dGBYQkmWjvnv"
      },
      "source": [
        "# Новый раздел"
      ]
    },
    {
      "cell_type": "code",
      "metadata": {
        "id": "065AxmdpQh7I"
      },
      "source": [
        "!chmod a+x FastQC/fastqc"
      ],
      "execution_count": null,
      "outputs": []
    },
    {
      "cell_type": "code",
      "metadata": {
        "colab": {
          "base_uri": "https://localhost:8080/"
        },
        "id": "ISsAWgdmQm0D",
        "outputId": "6ce1d0f9-157f-4090-b3dd-b9c8f6234953"
      },
      "source": [
        "!pip install HTSeq"
      ],
      "execution_count": null,
      "outputs": [
        {
          "output_type": "stream",
          "name": "stdout",
          "text": [
            "Collecting HTSeq\n",
            "  Downloading HTSeq-1.99.2-cp37-cp37m-manylinux_2_5_x86_64.manylinux1_x86_64.manylinux_2_12_x86_64.manylinux2010_x86_64.whl (1.5 MB)\n",
            "\u001b[K     |████████████████████████████████| 1.5 MB 25.3 MB/s \n",
            "\u001b[?25hCollecting pysam\n",
            "  Downloading pysam-0.18.0-cp37-cp37m-manylinux_2_12_x86_64.manylinux2010_x86_64.whl (14.9 MB)\n",
            "\u001b[K     |████████████████████████████████| 14.9 MB 37.5 MB/s \n",
            "\u001b[?25hRequirement already satisfied: numpy in /usr/local/lib/python3.7/dist-packages (from HTSeq) (1.21.4)\n",
            "Installing collected packages: pysam, HTSeq\n",
            "Successfully installed HTSeq-1.99.2 pysam-0.18.0\n"
          ]
        }
      ]
    },
    {
      "cell_type": "code",
      "metadata": {
        "colab": {
          "base_uri": "https://localhost:8080/"
        },
        "id": "nOT2Y0L-Qzey",
        "outputId": "5deeccb1-ad45-4880-8385-4ad36cb69863"
      },
      "source": [
        "!pip install --upgrade numpy"
      ],
      "execution_count": null,
      "outputs": [
        {
          "output_type": "stream",
          "name": "stdout",
          "text": [
            "Requirement already satisfied: numpy in /usr/local/lib/python3.7/dist-packages (1.21.4)\n"
          ]
        }
      ]
    },
    {
      "cell_type": "code",
      "metadata": {
        "colab": {
          "base_uri": "https://localhost:8080/"
        },
        "id": "sCduZS9JQqSs",
        "outputId": "b6cdc383-c21a-4bfa-d69e-9ae6d5e9e701"
      },
      "source": [
        "!htseq-count --version"
      ],
      "execution_count": null,
      "outputs": [
        {
          "output_type": "stream",
          "name": "stdout",
          "text": [
            "1.99.2\n"
          ]
        }
      ]
    },
    {
      "cell_type": "code",
      "metadata": {
        "colab": {
          "base_uri": "https://localhost:8080/"
        },
        "id": "XphR7YV7WGGz",
        "outputId": "96052d35-35d2-4d88-ce50-7cfca55cbd10"
      },
      "source": [
        "!wget https://genome-idx.s3.amazonaws.com/hisat/mm10_genome.tar.gz\n",
        "!tar -xzvf mm10_genome.tar.gz\n",
        "!wget http://ftp.ebi.ac.uk/pub/databases/gencode/Gencode_mouse/release_M25/gencode.vM25.annotation.gtf.gz\n",
        "!gzip -d gencode.vM25.annotation.gtf.gz"
      ],
      "execution_count": null,
      "outputs": [
        {
          "output_type": "stream",
          "name": "stdout",
          "text": [
            "--2021-12-02 00:33:11--  https://genome-idx.s3.amazonaws.com/hisat/mm10_genome.tar.gz\n",
            "Resolving genome-idx.s3.amazonaws.com (genome-idx.s3.amazonaws.com)... 52.217.206.1\n",
            "Connecting to genome-idx.s3.amazonaws.com (genome-idx.s3.amazonaws.com)|52.217.206.1|:443... connected.\n",
            "HTTP request sent, awaiting response... 200 OK\n",
            "Length: 3804366597 (3.5G) [binary/octet-stream]\n",
            "Saving to: ‘mm10_genome.tar.gz’\n",
            "\n",
            "mm10_genome.tar.gz  100%[===================>]   3.54G  28.2MB/s    in 1m 55s  \n",
            "\n",
            "2021-12-02 00:35:06 (31.5 MB/s) - ‘mm10_genome.tar.gz’ saved [3804366597/3804366597]\n",
            "\n",
            "mm10/\n",
            "mm10/genome.8.ht2\n",
            "mm10/genome.5.ht2\n",
            "mm10/make_mm10.sh\n",
            "mm10/genome.7.ht2\n",
            "mm10/genome.6.ht2\n",
            "mm10/genome.4.ht2\n",
            "mm10/genome.3.ht2\n",
            "mm10/genome.1.ht2\n",
            "mm10/genome.2.ht2\n",
            "--2021-12-02 00:35:59--  http://ftp.ebi.ac.uk/pub/databases/gencode/Gencode_mouse/release_M25/gencode.vM25.annotation.gtf.gz\n",
            "Resolving ftp.ebi.ac.uk (ftp.ebi.ac.uk)... 193.62.193.138\n",
            "Connecting to ftp.ebi.ac.uk (ftp.ebi.ac.uk)|193.62.193.138|:80... connected.\n",
            "HTTP request sent, awaiting response... 200 OK\n",
            "Length: 28542432 (27M) [application/octet-stream]\n",
            "Saving to: ‘gencode.vM25.annotation.gtf.gz’\n",
            "\n",
            "gencode.vM25.annota 100%[===================>]  27.22M   791KB/s    in 36s     \n",
            "\n",
            "2021-12-02 00:36:35 (781 KB/s) - ‘gencode.vM25.annotation.gtf.gz’ saved [28542432/28542432]\n",
            "\n"
          ]
        }
      ]
    },
    {
      "cell_type": "code",
      "metadata": {
        "id": "v5gXRro61PZq"
      },
      "source": [
        "data = ['SRR3414629', 'SRR3414630', 'SRR3414631', 'SRR3414635', 'SRR3414636', 'SRR3414637']"
      ],
      "execution_count": null,
      "outputs": []
    },
    {
      "cell_type": "code",
      "metadata": {
        "colab": {
          "base_uri": "https://localhost:8080/"
        },
        "id": "sSaqOz8R1cos",
        "outputId": "8f702f0c-7644-4fbc-c304-f279cc6501c0"
      },
      "source": [
        "for cur in data:\n",
        "    %env cur=$cur\n",
        "    !time  fastq-dump --split-files $cur\n",
        "    !echo /content/\"$cur\"_1.fastq\n",
        "    !./FastQC/fastqc /content/\"$cur\"_1.fastq\n",
        "    !time hisat2 -x -p 3 mm10/genome -U \"$cur\"_1.fastq -S \"$cur\"_1.sam 2> \"$cur\".hisat\n",
        "    !grep -P '^@|NH:i:1$' \"$cur\"_1.sam > \"$cur\".uniq.sam\n",
        "    !grep -v '^@' \"$cur\".uniq.sam | wc -l > \"cur\".result\n",
        "    !time htseq-count --stranded=no --format=sam \"$cur\".uniq.sam gencode.vM25.annotation.gtf > \"$cur\".counts\n",
        "    !grep '^__' \"$cur\".counts >> \"$cur\".result\n",
        "    !rm -v \"$cur\".uniq.sam \"$cur\"_1.fastq \"$cur\"_1_fastqc.zip \"$cur\"_1.sam"
      ],
      "execution_count": null,
      "outputs": [
        {
          "output_type": "stream",
          "name": "stdout",
          "text": [
            "env: cur=SRR3414629\n",
            "Read 21106089 spots for SRR3414629\n",
            "Written 21106089 spots for SRR3414629\n",
            "\n",
            "real\t3m38.648s\n",
            "user\t2m56.479s\n",
            "sys\t0m8.332s\n",
            "/content/SRR3414629_1.fastq\n",
            "Started analysis of SRR3414629_1.fastq\n",
            "Approx 5% complete for SRR3414629_1.fastq\n",
            "Approx 10% complete for SRR3414629_1.fastq\n",
            "Approx 15% complete for SRR3414629_1.fastq\n",
            "Approx 20% complete for SRR3414629_1.fastq\n",
            "Approx 25% complete for SRR3414629_1.fastq\n",
            "Approx 30% complete for SRR3414629_1.fastq\n",
            "Approx 35% complete for SRR3414629_1.fastq\n",
            "Approx 40% complete for SRR3414629_1.fastq\n",
            "Approx 45% complete for SRR3414629_1.fastq\n",
            "Approx 50% complete for SRR3414629_1.fastq\n",
            "Approx 55% complete for SRR3414629_1.fastq\n",
            "Approx 60% complete for SRR3414629_1.fastq\n",
            "Approx 65% complete for SRR3414629_1.fastq\n",
            "Approx 70% complete for SRR3414629_1.fastq\n",
            "Approx 75% complete for SRR3414629_1.fastq\n",
            "Approx 80% complete for SRR3414629_1.fastq\n",
            "Approx 85% complete for SRR3414629_1.fastq\n",
            "Approx 90% complete for SRR3414629_1.fastq\n",
            "Approx 95% complete for SRR3414629_1.fastq\n",
            "Analysis complete for SRR3414629_1.fastq\n",
            "\n",
            "real\t0m0.082s\n",
            "user\t0m0.035s\n",
            "sys\t0m0.018s\n",
            "grep: SRR3414629_1.sam: No such file or directory\n",
            "Traceback (most recent call last):\n",
            "  File \"/usr/local/bin/htseq-count\", line 5, in <module>\n",
            "    HTSeq.scripts.count.main()\n",
            "  File \"/usr/local/lib/python3.7/dist-packages/HTSeq/scripts/count.py\", line 451, in main\n",
            "    args = _parse_sanitize_cmdline_arguments()\n",
            "  File \"/usr/local/lib/python3.7/dist-packages/HTSeq/scripts/count.py\", line 443, in _parse_sanitize_cmdline_arguments\n",
            "    _check_sam_files(args.samfilenames)\n",
            "  File \"/usr/local/lib/python3.7/dist-packages/HTSeq/scripts/count.py\", line 157, in _check_sam_files\n",
            "    with pysam.AlignmentFile(sam_filename, \"r\") as sf:\n",
            "  File \"pysam/libcalignmentfile.pyx\", line 751, in pysam.libcalignmentfile.AlignmentFile.__cinit__\n",
            "  File \"pysam/libcalignmentfile.pyx\", line 956, in pysam.libcalignmentfile.AlignmentFile._open\n",
            "ValueError: file does not contain alignment data\n",
            "\n",
            "real\t0m0.841s\n",
            "user\t0m0.246s\n",
            "sys\t0m0.118s\n",
            "removed 'SRR3414629.uniq.sam'\n",
            "removed 'SRR3414629_1.fastq'\n",
            "removed 'SRR3414629_1_fastqc.zip'\n",
            "rm: cannot remove 'SRR3414629_1.sam': No such file or directory\n",
            "env: cur=SRR3414630\n",
            "Read 15244711 spots for SRR3414630\n",
            "Written 15244711 spots for SRR3414630\n",
            "\n",
            "real\t2m57.761s\n",
            "user\t2m13.003s\n",
            "sys\t0m8.845s\n",
            "/content/SRR3414630_1.fastq\n",
            "Started analysis of SRR3414630_1.fastq\n",
            "Approx 5% complete for SRR3414630_1.fastq\n",
            "Approx 10% complete for SRR3414630_1.fastq\n",
            "Approx 15% complete for SRR3414630_1.fastq\n",
            "Approx 20% complete for SRR3414630_1.fastq\n",
            "Approx 25% complete for SRR3414630_1.fastq\n",
            "Approx 30% complete for SRR3414630_1.fastq\n",
            "Approx 35% complete for SRR3414630_1.fastq\n",
            "Approx 40% complete for SRR3414630_1.fastq\n",
            "Approx 45% complete for SRR3414630_1.fastq\n",
            "Approx 50% complete for SRR3414630_1.fastq\n",
            "Approx 55% complete for SRR3414630_1.fastq\n",
            "Approx 60% complete for SRR3414630_1.fastq\n",
            "Approx 65% complete for SRR3414630_1.fastq\n",
            "Approx 70% complete for SRR3414630_1.fastq\n",
            "Approx 75% complete for SRR3414630_1.fastq\n",
            "Approx 80% complete for SRR3414630_1.fastq\n",
            "Approx 85% complete for SRR3414630_1.fastq\n",
            "Approx 90% complete for SRR3414630_1.fastq\n",
            "Approx 95% complete for SRR3414630_1.fastq\n",
            "Analysis complete for SRR3414630_1.fastq\n",
            "\n",
            "real\t0m0.051s\n",
            "user\t0m0.040s\n",
            "sys\t0m0.012s\n",
            "grep: SRR3414630_1.sam: No such file or directory\n",
            "Traceback (most recent call last):\n",
            "  File \"/usr/local/bin/htseq-count\", line 5, in <module>\n",
            "    HTSeq.scripts.count.main()\n",
            "  File \"/usr/local/lib/python3.7/dist-packages/HTSeq/scripts/count.py\", line 451, in main\n",
            "    args = _parse_sanitize_cmdline_arguments()\n",
            "  File \"/usr/local/lib/python3.7/dist-packages/HTSeq/scripts/count.py\", line 443, in _parse_sanitize_cmdline_arguments\n",
            "    _check_sam_files(args.samfilenames)\n",
            "  File \"/usr/local/lib/python3.7/dist-packages/HTSeq/scripts/count.py\", line 157, in _check_sam_files\n",
            "    with pysam.AlignmentFile(sam_filename, \"r\") as sf:\n",
            "  File \"pysam/libcalignmentfile.pyx\", line 751, in pysam.libcalignmentfile.AlignmentFile.__cinit__\n",
            "  File \"pysam/libcalignmentfile.pyx\", line 956, in pysam.libcalignmentfile.AlignmentFile._open\n",
            "ValueError: file does not contain alignment data\n",
            "\n",
            "real\t0m0.313s\n",
            "user\t0m0.248s\n",
            "sys\t0m0.115s\n",
            "removed 'SRR3414630.uniq.sam'\n",
            "removed 'SRR3414630_1.fastq'\n",
            "removed 'SRR3414630_1_fastqc.zip'\n",
            "rm: cannot remove 'SRR3414630_1.sam': No such file or directory\n",
            "env: cur=SRR3414631\n",
            "Read 24244069 spots for SRR3414631\n",
            "Written 24244069 spots for SRR3414631\n",
            "\n",
            "real\t4m18.860s\n",
            "user\t3m23.275s\n",
            "sys\t0m9.870s\n",
            "/content/SRR3414631_1.fastq\n",
            "Started analysis of SRR3414631_1.fastq\n",
            "Approx 5% complete for SRR3414631_1.fastq\n",
            "Approx 10% complete for SRR3414631_1.fastq\n",
            "Approx 15% complete for SRR3414631_1.fastq\n",
            "Approx 20% complete for SRR3414631_1.fastq\n",
            "Approx 25% complete for SRR3414631_1.fastq\n",
            "Approx 30% complete for SRR3414631_1.fastq\n",
            "Approx 35% complete for SRR3414631_1.fastq\n",
            "Approx 40% complete for SRR3414631_1.fastq\n",
            "Approx 45% complete for SRR3414631_1.fastq\n",
            "Approx 50% complete for SRR3414631_1.fastq\n",
            "Approx 55% complete for SRR3414631_1.fastq\n",
            "Approx 60% complete for SRR3414631_1.fastq\n",
            "Approx 65% complete for SRR3414631_1.fastq\n",
            "Approx 70% complete for SRR3414631_1.fastq\n",
            "Approx 75% complete for SRR3414631_1.fastq\n",
            "Approx 80% complete for SRR3414631_1.fastq\n",
            "Approx 85% complete for SRR3414631_1.fastq\n",
            "Approx 90% complete for SRR3414631_1.fastq\n",
            "Approx 95% complete for SRR3414631_1.fastq\n",
            "Analysis complete for SRR3414631_1.fastq\n",
            "\n",
            "real\t0m0.050s\n",
            "user\t0m0.036s\n",
            "sys\t0m0.014s\n",
            "grep: SRR3414631_1.sam: No such file or directory\n",
            "Traceback (most recent call last):\n",
            "  File \"/usr/local/bin/htseq-count\", line 5, in <module>\n",
            "    HTSeq.scripts.count.main()\n",
            "  File \"/usr/local/lib/python3.7/dist-packages/HTSeq/scripts/count.py\", line 451, in main\n",
            "    args = _parse_sanitize_cmdline_arguments()\n",
            "  File \"/usr/local/lib/python3.7/dist-packages/HTSeq/scripts/count.py\", line 443, in _parse_sanitize_cmdline_arguments\n",
            "    _check_sam_files(args.samfilenames)\n",
            "  File \"/usr/local/lib/python3.7/dist-packages/HTSeq/scripts/count.py\", line 157, in _check_sam_files\n",
            "    with pysam.AlignmentFile(sam_filename, \"r\") as sf:\n",
            "  File \"pysam/libcalignmentfile.pyx\", line 751, in pysam.libcalignmentfile.AlignmentFile.__cinit__\n",
            "  File \"pysam/libcalignmentfile.pyx\", line 956, in pysam.libcalignmentfile.AlignmentFile._open\n",
            "ValueError: file does not contain alignment data\n",
            "\n",
            "real\t0m0.280s\n",
            "user\t0m0.228s\n",
            "sys\t0m0.102s\n",
            "removed 'SRR3414631.uniq.sam'\n",
            "removed 'SRR3414631_1.fastq'\n",
            "removed 'SRR3414631_1_fastqc.zip'\n",
            "rm: cannot remove 'SRR3414631_1.sam': No such file or directory\n",
            "env: cur=SRR3414635\n",
            "Read 20956475 spots for SRR3414635\n",
            "Written 20956475 spots for SRR3414635\n",
            "\n",
            "real\t4m3.323s\n",
            "user\t3m4.101s\n",
            "sys\t0m12.310s\n",
            "/content/SRR3414635_1.fastq\n",
            "Started analysis of SRR3414635_1.fastq\n",
            "Approx 5% complete for SRR3414635_1.fastq\n",
            "Approx 10% complete for SRR3414635_1.fastq\n",
            "Approx 15% complete for SRR3414635_1.fastq\n",
            "Approx 20% complete for SRR3414635_1.fastq\n",
            "Approx 25% complete for SRR3414635_1.fastq\n",
            "Approx 30% complete for SRR3414635_1.fastq\n",
            "Approx 35% complete for SRR3414635_1.fastq\n",
            "Approx 40% complete for SRR3414635_1.fastq\n",
            "Approx 45% complete for SRR3414635_1.fastq\n",
            "Approx 50% complete for SRR3414635_1.fastq\n",
            "Approx 55% complete for SRR3414635_1.fastq\n",
            "Approx 60% complete for SRR3414635_1.fastq\n",
            "Approx 65% complete for SRR3414635_1.fastq\n",
            "Approx 70% complete for SRR3414635_1.fastq\n",
            "Approx 75% complete for SRR3414635_1.fastq\n",
            "Approx 80% complete for SRR3414635_1.fastq\n",
            "Approx 85% complete for SRR3414635_1.fastq\n",
            "Approx 90% complete for SRR3414635_1.fastq\n",
            "Approx 95% complete for SRR3414635_1.fastq\n",
            "Analysis complete for SRR3414635_1.fastq\n",
            "\n",
            "real\t0m0.052s\n",
            "user\t0m0.036s\n",
            "sys\t0m0.016s\n",
            "grep: SRR3414635_1.sam: No such file or directory\n",
            "Traceback (most recent call last):\n",
            "  File \"/usr/local/bin/htseq-count\", line 5, in <module>\n",
            "    HTSeq.scripts.count.main()\n",
            "  File \"/usr/local/lib/python3.7/dist-packages/HTSeq/scripts/count.py\", line 451, in main\n",
            "    args = _parse_sanitize_cmdline_arguments()\n",
            "  File \"/usr/local/lib/python3.7/dist-packages/HTSeq/scripts/count.py\", line 443, in _parse_sanitize_cmdline_arguments\n",
            "    _check_sam_files(args.samfilenames)\n",
            "  File \"/usr/local/lib/python3.7/dist-packages/HTSeq/scripts/count.py\", line 157, in _check_sam_files\n",
            "    with pysam.AlignmentFile(sam_filename, \"r\") as sf:\n",
            "  File \"pysam/libcalignmentfile.pyx\", line 751, in pysam.libcalignmentfile.AlignmentFile.__cinit__\n",
            "  File \"pysam/libcalignmentfile.pyx\", line 956, in pysam.libcalignmentfile.AlignmentFile._open\n",
            "ValueError: file does not contain alignment data\n",
            "\n",
            "real\t0m0.279s\n",
            "user\t0m0.219s\n",
            "sys\t0m0.109s\n",
            "removed 'SRR3414635.uniq.sam'\n",
            "removed 'SRR3414635_1.fastq'\n",
            "removed 'SRR3414635_1_fastqc.zip'\n",
            "rm: cannot remove 'SRR3414635_1.sam': No such file or directory\n",
            "env: cur=SRR3414636\n",
            "Read 20307147 spots for SRR3414636\n",
            "Written 20307147 spots for SRR3414636\n",
            "\n",
            "real\t3m32.030s\n",
            "user\t2m51.199s\n",
            "sys\t0m8.272s\n",
            "/content/SRR3414636_1.fastq\n",
            "Started analysis of SRR3414636_1.fastq\n",
            "Approx 5% complete for SRR3414636_1.fastq\n",
            "Approx 10% complete for SRR3414636_1.fastq\n",
            "Approx 15% complete for SRR3414636_1.fastq\n",
            "Approx 20% complete for SRR3414636_1.fastq\n",
            "Approx 25% complete for SRR3414636_1.fastq\n",
            "Approx 30% complete for SRR3414636_1.fastq\n",
            "Approx 35% complete for SRR3414636_1.fastq\n",
            "Approx 40% complete for SRR3414636_1.fastq\n",
            "Approx 45% complete for SRR3414636_1.fastq\n",
            "Approx 50% complete for SRR3414636_1.fastq\n",
            "Approx 55% complete for SRR3414636_1.fastq\n",
            "Approx 60% complete for SRR3414636_1.fastq\n",
            "Approx 65% complete for SRR3414636_1.fastq\n",
            "Approx 70% complete for SRR3414636_1.fastq\n",
            "Approx 75% complete for SRR3414636_1.fastq\n",
            "Approx 80% complete for SRR3414636_1.fastq\n",
            "Approx 85% complete for SRR3414636_1.fastq\n",
            "Approx 90% complete for SRR3414636_1.fastq\n",
            "Approx 95% complete for SRR3414636_1.fastq\n",
            "Analysis complete for SRR3414636_1.fastq\n",
            "\n",
            "real\t0m0.051s\n",
            "user\t0m0.033s\n",
            "sys\t0m0.018s\n",
            "grep: SRR3414636_1.sam: No such file or directory\n",
            "Traceback (most recent call last):\n",
            "  File \"/usr/local/bin/htseq-count\", line 5, in <module>\n",
            "    HTSeq.scripts.count.main()\n",
            "  File \"/usr/local/lib/python3.7/dist-packages/HTSeq/scripts/count.py\", line 451, in main\n",
            "    args = _parse_sanitize_cmdline_arguments()\n",
            "  File \"/usr/local/lib/python3.7/dist-packages/HTSeq/scripts/count.py\", line 443, in _parse_sanitize_cmdline_arguments\n",
            "    _check_sam_files(args.samfilenames)\n",
            "  File \"/usr/local/lib/python3.7/dist-packages/HTSeq/scripts/count.py\", line 157, in _check_sam_files\n",
            "    with pysam.AlignmentFile(sam_filename, \"r\") as sf:\n",
            "  File \"pysam/libcalignmentfile.pyx\", line 751, in pysam.libcalignmentfile.AlignmentFile.__cinit__\n",
            "  File \"pysam/libcalignmentfile.pyx\", line 956, in pysam.libcalignmentfile.AlignmentFile._open\n",
            "ValueError: file does not contain alignment data\n",
            "\n",
            "real\t0m0.291s\n",
            "user\t0m0.227s\n",
            "sys\t0m0.102s\n",
            "removed 'SRR3414636.uniq.sam'\n",
            "removed 'SRR3414636_1.fastq'\n",
            "removed 'SRR3414636_1_fastqc.zip'\n",
            "rm: cannot remove 'SRR3414636_1.sam': No such file or directory\n",
            "env: cur=SRR3414637\n",
            "Read 20385570 spots for SRR3414637\n",
            "Written 20385570 spots for SRR3414637\n",
            "\n",
            "real\t3m52.004s\n",
            "user\t2m58.912s\n",
            "sys\t0m12.914s\n",
            "/content/SRR3414637_1.fastq\n",
            "Started analysis of SRR3414637_1.fastq\n",
            "Approx 5% complete for SRR3414637_1.fastq\n",
            "Approx 10% complete for SRR3414637_1.fastq\n",
            "Approx 15% complete for SRR3414637_1.fastq\n",
            "Approx 20% complete for SRR3414637_1.fastq\n",
            "Approx 25% complete for SRR3414637_1.fastq\n",
            "Approx 30% complete for SRR3414637_1.fastq\n",
            "Approx 35% complete for SRR3414637_1.fastq\n",
            "Approx 40% complete for SRR3414637_1.fastq\n",
            "Approx 45% complete for SRR3414637_1.fastq\n",
            "Approx 50% complete for SRR3414637_1.fastq\n",
            "Approx 55% complete for SRR3414637_1.fastq\n",
            "Approx 60% complete for SRR3414637_1.fastq\n",
            "Approx 65% complete for SRR3414637_1.fastq\n",
            "Approx 70% complete for SRR3414637_1.fastq\n",
            "Approx 75% complete for SRR3414637_1.fastq\n",
            "Approx 80% complete for SRR3414637_1.fastq\n",
            "Approx 85% complete for SRR3414637_1.fastq\n",
            "Approx 90% complete for SRR3414637_1.fastq\n",
            "Approx 95% complete for SRR3414637_1.fastq\n",
            "Analysis complete for SRR3414637_1.fastq\n",
            "\n",
            "real\t0m0.052s\n",
            "user\t0m0.033s\n",
            "sys\t0m0.019s\n",
            "grep: SRR3414637_1.sam: No such file or directory\n",
            "Traceback (most recent call last):\n",
            "  File \"/usr/local/bin/htseq-count\", line 5, in <module>\n",
            "    HTSeq.scripts.count.main()\n",
            "  File \"/usr/local/lib/python3.7/dist-packages/HTSeq/scripts/count.py\", line 451, in main\n",
            "    args = _parse_sanitize_cmdline_arguments()\n",
            "  File \"/usr/local/lib/python3.7/dist-packages/HTSeq/scripts/count.py\", line 443, in _parse_sanitize_cmdline_arguments\n",
            "    _check_sam_files(args.samfilenames)\n",
            "  File \"/usr/local/lib/python3.7/dist-packages/HTSeq/scripts/count.py\", line 157, in _check_sam_files\n",
            "    with pysam.AlignmentFile(sam_filename, \"r\") as sf:\n",
            "  File \"pysam/libcalignmentfile.pyx\", line 751, in pysam.libcalignmentfile.AlignmentFile.__cinit__\n",
            "  File \"pysam/libcalignmentfile.pyx\", line 956, in pysam.libcalignmentfile.AlignmentFile._open\n",
            "ValueError: file does not contain alignment data\n",
            "\n",
            "real\t0m0.310s\n",
            "user\t0m0.227s\n",
            "sys\t0m0.117s\n",
            "removed 'SRR3414637.uniq.sam'\n",
            "removed 'SRR3414637_1.fastq'\n",
            "removed 'SRR3414637_1_fastqc.zip'\n",
            "rm: cannot remove 'SRR3414637_1.sam': No such file or directory\n"
          ]
        }
      ]
    },
    {
      "cell_type": "code",
      "metadata": {
        "id": "mN3-rHM9s55L"
      },
      "source": [
        "import pandas as pd\n",
        "\n",
        "prog, control = data[:3], data[3:]\n",
        "\n",
        "cols = []\n",
        "for d, c in zip([control, prog], ['c', 'r']):\n",
        "  for i, file in enumerate(d):\n",
        "    cur_csv = pd.read_csv(file + '.counts', sep='\\t', header=None, index_col=0)\n",
        "    cols.append(cur_csv)\n",
        "    cols[-1].columns = [c + str(i + 1)]\n",
        "\n",
        "drop_features = [\n",
        "  '__no_feature',\n",
        "  '__ambiguous',\n",
        "  '__too_low_aQual',\n",
        "  '__not_aligned',\n",
        "  '__alignment_not_unique'\n",
        "]\n",
        "\n",
        "overall = pd.concat(cols, axis=1)\n",
        "for feature in drop_features:\n",
        "  overall.drop(feature, inplace=True)\n",
        "\n",
        "overall.to_csv('ALL.counts', sep='\\t', index_label=True)"
      ],
      "execution_count": null,
      "outputs": []
    },
    {
      "cell_type": "code",
      "metadata": {
        "id": "jWHuCENxQSI6"
      },
      "source": [
        ""
      ],
      "execution_count": null,
      "outputs": []
    }
  ]
}